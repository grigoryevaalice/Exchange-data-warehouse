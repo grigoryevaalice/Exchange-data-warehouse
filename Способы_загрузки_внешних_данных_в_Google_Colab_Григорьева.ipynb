{
  "nbformat": 4,
  "nbformat_minor": 0,
  "metadata": {
    "colab": {
      "provenance": [],
      "authorship_tag": "ABX9TyOiOUvnytHnnZQ0+QMUyCYj",
      "include_colab_link": true
    },
    "kernelspec": {
      "name": "python3",
      "display_name": "Python 3"
    },
    "language_info": {
      "name": "python"
    }
  },
  "cells": [
    {
      "cell_type": "markdown",
      "metadata": {
        "id": "view-in-github",
        "colab_type": "text"
      },
      "source": [
        "<a href=\"https://colab.research.google.com/github/grigoryevaalice/Exchange-data-warehouse/blob/main/%D0%A1%D0%BF%D0%BE%D1%81%D0%BE%D0%B1%D1%8B_%D0%B7%D0%B0%D0%B3%D1%80%D1%83%D0%B7%D0%BA%D0%B8_%D0%B2%D0%BD%D0%B5%D1%88%D0%BD%D0%B8%D1%85_%D0%B4%D0%B0%D0%BD%D0%BD%D1%8B%D1%85_%D0%B2_Google_Colab_%D0%93%D1%80%D0%B8%D0%B3%D0%BE%D1%80%D1%8C%D0%B5%D0%B2%D0%B0.ipynb\" target=\"_parent\"><img src=\"https://colab.research.google.com/assets/colab-badge.svg\" alt=\"Open In Colab\"/></a>"
      ]
    },
    {
      "cell_type": "markdown",
      "source": [
        "Для загрузки файлов в Google Colaboratory выполним следующие дествия: Найдем файл с данными в формате csv. Скачаем этот файл на локальный компьютер. Опробуем различные варианты загрузки данного файла:\n",
        "\n",
        "Загрузка файла через проводник\n",
        "Загрузка файла с помощью filesмодуля\n",
        "Чтение файла с Github\n",
        "Клонирование репозитория Github\n",
        "Загрузка файлов с помощью wgetкоманды Linux\n",
        "Доступ к Google Диску путем его локального подключения\n",
        "Загрузка наборов данных Kaggle"
      ],
      "metadata": {
        "id": "AFBAanJCzO-X"
      }
    },
    {
      "cell_type": "markdown",
      "source": [
        "Загрузка файла через проводник Вы можете использовать параметр загрузки в верхней части проводника файлов, чтобы загрузить любые файлы с локального компьютера в Google Colab. Вот что вам нужно сделать: Шаг 1. Щелкните значок « Файлы », чтобы открыть панель «Проводник файлов»."
      ],
      "metadata": {
        "id": "aoHNlk--0Gs3"
      }
    },
    {
      "cell_type": "markdown",
      "source": [
        "Шаг 2: Щелкните значок загрузки и выберите файлы, которые вы хотите загрузить, в диалоговом окне «Загрузка файла».\n"
      ],
      "metadata": {
        "id": "019d-ExG0I4X"
      }
    },
    {
      "cell_type": "markdown",
      "source": [
        "Шаг 3: После завершения загрузки вы можете прочитать файл, как обычно. Например,pd.read_csv('Salary_Data.csv')"
      ],
      "metadata": {
        "id": "5CntRpHE0gq-"
      }
    },
    {
      "cell_type": "code",
      "source": [
        "import pandas as pd\n",
        "df=pd.read_csv('GAZP_220701_221201.csv')\n",
        "df.head()"
      ],
      "metadata": {
        "colab": {
          "base_uri": "https://localhost:8080/",
          "height": 206
        },
        "id": "T8wx9FRJ0kkW",
        "outputId": "79d1265e-712a-4a8e-886b-d58b11fa06fe"
      },
      "execution_count": 1,
      "outputs": [
        {
          "output_type": "execute_result",
          "data": {
            "text/plain": [
              "  <TICKER>  <PER>    <DATE>  <TIME>  <OPEN>  <HIGH>   <LOW>  <CLOSE>     <VOL>\n",
              "0     GAZP     60  20220701  110000  200.84  201.85  186.20   195.87  56774340\n",
              "1     GAZP     60  20220701  120000  195.84  195.92  191.34   194.40  17570520\n",
              "2     GAZP     60  20220701  130000  194.40  196.30  193.20   194.20   8538260\n",
              "3     GAZP     60  20220701  140000  194.20  197.69  193.95   197.50   7412220\n",
              "4     GAZP     60  20220701  150000  197.50  197.50  195.10   195.13   4870770"
            ],
            "text/html": [
              "\n",
              "  <div id=\"df-8b67fc02-0c84-4da6-9502-a9808819320b\">\n",
              "    <div class=\"colab-df-container\">\n",
              "      <div>\n",
              "<style scoped>\n",
              "    .dataframe tbody tr th:only-of-type {\n",
              "        vertical-align: middle;\n",
              "    }\n",
              "\n",
              "    .dataframe tbody tr th {\n",
              "        vertical-align: top;\n",
              "    }\n",
              "\n",
              "    .dataframe thead th {\n",
              "        text-align: right;\n",
              "    }\n",
              "</style>\n",
              "<table border=\"1\" class=\"dataframe\">\n",
              "  <thead>\n",
              "    <tr style=\"text-align: right;\">\n",
              "      <th></th>\n",
              "      <th>&lt;TICKER&gt;</th>\n",
              "      <th>&lt;PER&gt;</th>\n",
              "      <th>&lt;DATE&gt;</th>\n",
              "      <th>&lt;TIME&gt;</th>\n",
              "      <th>&lt;OPEN&gt;</th>\n",
              "      <th>&lt;HIGH&gt;</th>\n",
              "      <th>&lt;LOW&gt;</th>\n",
              "      <th>&lt;CLOSE&gt;</th>\n",
              "      <th>&lt;VOL&gt;</th>\n",
              "    </tr>\n",
              "  </thead>\n",
              "  <tbody>\n",
              "    <tr>\n",
              "      <th>0</th>\n",
              "      <td>GAZP</td>\n",
              "      <td>60</td>\n",
              "      <td>20220701</td>\n",
              "      <td>110000</td>\n",
              "      <td>200.84</td>\n",
              "      <td>201.85</td>\n",
              "      <td>186.20</td>\n",
              "      <td>195.87</td>\n",
              "      <td>56774340</td>\n",
              "    </tr>\n",
              "    <tr>\n",
              "      <th>1</th>\n",
              "      <td>GAZP</td>\n",
              "      <td>60</td>\n",
              "      <td>20220701</td>\n",
              "      <td>120000</td>\n",
              "      <td>195.84</td>\n",
              "      <td>195.92</td>\n",
              "      <td>191.34</td>\n",
              "      <td>194.40</td>\n",
              "      <td>17570520</td>\n",
              "    </tr>\n",
              "    <tr>\n",
              "      <th>2</th>\n",
              "      <td>GAZP</td>\n",
              "      <td>60</td>\n",
              "      <td>20220701</td>\n",
              "      <td>130000</td>\n",
              "      <td>194.40</td>\n",
              "      <td>196.30</td>\n",
              "      <td>193.20</td>\n",
              "      <td>194.20</td>\n",
              "      <td>8538260</td>\n",
              "    </tr>\n",
              "    <tr>\n",
              "      <th>3</th>\n",
              "      <td>GAZP</td>\n",
              "      <td>60</td>\n",
              "      <td>20220701</td>\n",
              "      <td>140000</td>\n",
              "      <td>194.20</td>\n",
              "      <td>197.69</td>\n",
              "      <td>193.95</td>\n",
              "      <td>197.50</td>\n",
              "      <td>7412220</td>\n",
              "    </tr>\n",
              "    <tr>\n",
              "      <th>4</th>\n",
              "      <td>GAZP</td>\n",
              "      <td>60</td>\n",
              "      <td>20220701</td>\n",
              "      <td>150000</td>\n",
              "      <td>197.50</td>\n",
              "      <td>197.50</td>\n",
              "      <td>195.10</td>\n",
              "      <td>195.13</td>\n",
              "      <td>4870770</td>\n",
              "    </tr>\n",
              "  </tbody>\n",
              "</table>\n",
              "</div>\n",
              "      <button class=\"colab-df-convert\" onclick=\"convertToInteractive('df-8b67fc02-0c84-4da6-9502-a9808819320b')\"\n",
              "              title=\"Convert this dataframe to an interactive table.\"\n",
              "              style=\"display:none;\">\n",
              "        \n",
              "  <svg xmlns=\"http://www.w3.org/2000/svg\" height=\"24px\"viewBox=\"0 0 24 24\"\n",
              "       width=\"24px\">\n",
              "    <path d=\"M0 0h24v24H0V0z\" fill=\"none\"/>\n",
              "    <path d=\"M18.56 5.44l.94 2.06.94-2.06 2.06-.94-2.06-.94-.94-2.06-.94 2.06-2.06.94zm-11 1L8.5 8.5l.94-2.06 2.06-.94-2.06-.94L8.5 2.5l-.94 2.06-2.06.94zm10 10l.94 2.06.94-2.06 2.06-.94-2.06-.94-.94-2.06-.94 2.06-2.06.94z\"/><path d=\"M17.41 7.96l-1.37-1.37c-.4-.4-.92-.59-1.43-.59-.52 0-1.04.2-1.43.59L10.3 9.45l-7.72 7.72c-.78.78-.78 2.05 0 2.83L4 21.41c.39.39.9.59 1.41.59.51 0 1.02-.2 1.41-.59l7.78-7.78 2.81-2.81c.8-.78.8-2.07 0-2.86zM5.41 20L4 18.59l7.72-7.72 1.47 1.35L5.41 20z\"/>\n",
              "  </svg>\n",
              "      </button>\n",
              "      \n",
              "  <style>\n",
              "    .colab-df-container {\n",
              "      display:flex;\n",
              "      flex-wrap:wrap;\n",
              "      gap: 12px;\n",
              "    }\n",
              "\n",
              "    .colab-df-convert {\n",
              "      background-color: #E8F0FE;\n",
              "      border: none;\n",
              "      border-radius: 50%;\n",
              "      cursor: pointer;\n",
              "      display: none;\n",
              "      fill: #1967D2;\n",
              "      height: 32px;\n",
              "      padding: 0 0 0 0;\n",
              "      width: 32px;\n",
              "    }\n",
              "\n",
              "    .colab-df-convert:hover {\n",
              "      background-color: #E2EBFA;\n",
              "      box-shadow: 0px 1px 2px rgba(60, 64, 67, 0.3), 0px 1px 3px 1px rgba(60, 64, 67, 0.15);\n",
              "      fill: #174EA6;\n",
              "    }\n",
              "\n",
              "    [theme=dark] .colab-df-convert {\n",
              "      background-color: #3B4455;\n",
              "      fill: #D2E3FC;\n",
              "    }\n",
              "\n",
              "    [theme=dark] .colab-df-convert:hover {\n",
              "      background-color: #434B5C;\n",
              "      box-shadow: 0px 1px 3px 1px rgba(0, 0, 0, 0.15);\n",
              "      filter: drop-shadow(0px 1px 2px rgba(0, 0, 0, 0.3));\n",
              "      fill: #FFFFFF;\n",
              "    }\n",
              "  </style>\n",
              "\n",
              "      <script>\n",
              "        const buttonEl =\n",
              "          document.querySelector('#df-8b67fc02-0c84-4da6-9502-a9808819320b button.colab-df-convert');\n",
              "        buttonEl.style.display =\n",
              "          google.colab.kernel.accessAllowed ? 'block' : 'none';\n",
              "\n",
              "        async function convertToInteractive(key) {\n",
              "          const element = document.querySelector('#df-8b67fc02-0c84-4da6-9502-a9808819320b');\n",
              "          const dataTable =\n",
              "            await google.colab.kernel.invokeFunction('convertToInteractive',\n",
              "                                                     [key], {});\n",
              "          if (!dataTable) return;\n",
              "\n",
              "          const docLinkHtml = 'Like what you see? Visit the ' +\n",
              "            '<a target=\"_blank\" href=https://colab.research.google.com/notebooks/data_table.ipynb>data table notebook</a>'\n",
              "            + ' to learn more about interactive tables.';\n",
              "          element.innerHTML = '';\n",
              "          dataTable['output_type'] = 'display_data';\n",
              "          await google.colab.output.renderOutput(dataTable, element);\n",
              "          const docLink = document.createElement('div');\n",
              "          docLink.innerHTML = docLinkHtml;\n",
              "          element.appendChild(docLink);\n",
              "        }\n",
              "      </script>\n",
              "    </div>\n",
              "  </div>\n",
              "  "
            ]
          },
          "metadata": {},
          "execution_count": 1
        }
      ]
    },
    {
      "cell_type": "markdown",
      "source": [
        "**Загрузка файла с помощью модуля Colab**"
      ],
      "metadata": {
        "id": "9SbQ4Ixm03wu"
      }
    },
    {
      "cell_type": "code",
      "source": [
        "from google.colab import files\n",
        "uploaded = files.upload()"
      ],
      "metadata": {
        "colab": {
          "base_uri": "https://localhost:8080/",
          "height": 73
        },
        "id": "C8Qcj8s307bm",
        "outputId": "c3b6ebad-7307-4755-f6ef-bb10a5201f0a"
      },
      "execution_count": 2,
      "outputs": [
        {
          "output_type": "display_data",
          "data": {
            "text/plain": [
              "<IPython.core.display.HTML object>"
            ],
            "text/html": [
              "\n",
              "     <input type=\"file\" id=\"files-3867bfdc-06c1-4a4b-ac1e-5805e4c4c366\" name=\"files[]\" multiple disabled\n",
              "        style=\"border:none\" />\n",
              "     <output id=\"result-3867bfdc-06c1-4a4b-ac1e-5805e4c4c366\">\n",
              "      Upload widget is only available when the cell has been executed in the\n",
              "      current browser session. Please rerun this cell to enable.\n",
              "      </output>\n",
              "      <script>// Copyright 2017 Google LLC\n",
              "//\n",
              "// Licensed under the Apache License, Version 2.0 (the \"License\");\n",
              "// you may not use this file except in compliance with the License.\n",
              "// You may obtain a copy of the License at\n",
              "//\n",
              "//      http://www.apache.org/licenses/LICENSE-2.0\n",
              "//\n",
              "// Unless required by applicable law or agreed to in writing, software\n",
              "// distributed under the License is distributed on an \"AS IS\" BASIS,\n",
              "// WITHOUT WARRANTIES OR CONDITIONS OF ANY KIND, either express or implied.\n",
              "// See the License for the specific language governing permissions and\n",
              "// limitations under the License.\n",
              "\n",
              "/**\n",
              " * @fileoverview Helpers for google.colab Python module.\n",
              " */\n",
              "(function(scope) {\n",
              "function span(text, styleAttributes = {}) {\n",
              "  const element = document.createElement('span');\n",
              "  element.textContent = text;\n",
              "  for (const key of Object.keys(styleAttributes)) {\n",
              "    element.style[key] = styleAttributes[key];\n",
              "  }\n",
              "  return element;\n",
              "}\n",
              "\n",
              "// Max number of bytes which will be uploaded at a time.\n",
              "const MAX_PAYLOAD_SIZE = 100 * 1024;\n",
              "\n",
              "function _uploadFiles(inputId, outputId) {\n",
              "  const steps = uploadFilesStep(inputId, outputId);\n",
              "  const outputElement = document.getElementById(outputId);\n",
              "  // Cache steps on the outputElement to make it available for the next call\n",
              "  // to uploadFilesContinue from Python.\n",
              "  outputElement.steps = steps;\n",
              "\n",
              "  return _uploadFilesContinue(outputId);\n",
              "}\n",
              "\n",
              "// This is roughly an async generator (not supported in the browser yet),\n",
              "// where there are multiple asynchronous steps and the Python side is going\n",
              "// to poll for completion of each step.\n",
              "// This uses a Promise to block the python side on completion of each step,\n",
              "// then passes the result of the previous step as the input to the next step.\n",
              "function _uploadFilesContinue(outputId) {\n",
              "  const outputElement = document.getElementById(outputId);\n",
              "  const steps = outputElement.steps;\n",
              "\n",
              "  const next = steps.next(outputElement.lastPromiseValue);\n",
              "  return Promise.resolve(next.value.promise).then((value) => {\n",
              "    // Cache the last promise value to make it available to the next\n",
              "    // step of the generator.\n",
              "    outputElement.lastPromiseValue = value;\n",
              "    return next.value.response;\n",
              "  });\n",
              "}\n",
              "\n",
              "/**\n",
              " * Generator function which is called between each async step of the upload\n",
              " * process.\n",
              " * @param {string} inputId Element ID of the input file picker element.\n",
              " * @param {string} outputId Element ID of the output display.\n",
              " * @return {!Iterable<!Object>} Iterable of next steps.\n",
              " */\n",
              "function* uploadFilesStep(inputId, outputId) {\n",
              "  const inputElement = document.getElementById(inputId);\n",
              "  inputElement.disabled = false;\n",
              "\n",
              "  const outputElement = document.getElementById(outputId);\n",
              "  outputElement.innerHTML = '';\n",
              "\n",
              "  const pickedPromise = new Promise((resolve) => {\n",
              "    inputElement.addEventListener('change', (e) => {\n",
              "      resolve(e.target.files);\n",
              "    });\n",
              "  });\n",
              "\n",
              "  const cancel = document.createElement('button');\n",
              "  inputElement.parentElement.appendChild(cancel);\n",
              "  cancel.textContent = 'Cancel upload';\n",
              "  const cancelPromise = new Promise((resolve) => {\n",
              "    cancel.onclick = () => {\n",
              "      resolve(null);\n",
              "    };\n",
              "  });\n",
              "\n",
              "  // Wait for the user to pick the files.\n",
              "  const files = yield {\n",
              "    promise: Promise.race([pickedPromise, cancelPromise]),\n",
              "    response: {\n",
              "      action: 'starting',\n",
              "    }\n",
              "  };\n",
              "\n",
              "  cancel.remove();\n",
              "\n",
              "  // Disable the input element since further picks are not allowed.\n",
              "  inputElement.disabled = true;\n",
              "\n",
              "  if (!files) {\n",
              "    return {\n",
              "      response: {\n",
              "        action: 'complete',\n",
              "      }\n",
              "    };\n",
              "  }\n",
              "\n",
              "  for (const file of files) {\n",
              "    const li = document.createElement('li');\n",
              "    li.append(span(file.name, {fontWeight: 'bold'}));\n",
              "    li.append(span(\n",
              "        `(${file.type || 'n/a'}) - ${file.size} bytes, ` +\n",
              "        `last modified: ${\n",
              "            file.lastModifiedDate ? file.lastModifiedDate.toLocaleDateString() :\n",
              "                                    'n/a'} - `));\n",
              "    const percent = span('0% done');\n",
              "    li.appendChild(percent);\n",
              "\n",
              "    outputElement.appendChild(li);\n",
              "\n",
              "    const fileDataPromise = new Promise((resolve) => {\n",
              "      const reader = new FileReader();\n",
              "      reader.onload = (e) => {\n",
              "        resolve(e.target.result);\n",
              "      };\n",
              "      reader.readAsArrayBuffer(file);\n",
              "    });\n",
              "    // Wait for the data to be ready.\n",
              "    let fileData = yield {\n",
              "      promise: fileDataPromise,\n",
              "      response: {\n",
              "        action: 'continue',\n",
              "      }\n",
              "    };\n",
              "\n",
              "    // Use a chunked sending to avoid message size limits. See b/62115660.\n",
              "    let position = 0;\n",
              "    do {\n",
              "      const length = Math.min(fileData.byteLength - position, MAX_PAYLOAD_SIZE);\n",
              "      const chunk = new Uint8Array(fileData, position, length);\n",
              "      position += length;\n",
              "\n",
              "      const base64 = btoa(String.fromCharCode.apply(null, chunk));\n",
              "      yield {\n",
              "        response: {\n",
              "          action: 'append',\n",
              "          file: file.name,\n",
              "          data: base64,\n",
              "        },\n",
              "      };\n",
              "\n",
              "      let percentDone = fileData.byteLength === 0 ?\n",
              "          100 :\n",
              "          Math.round((position / fileData.byteLength) * 100);\n",
              "      percent.textContent = `${percentDone}% done`;\n",
              "\n",
              "    } while (position < fileData.byteLength);\n",
              "  }\n",
              "\n",
              "  // All done.\n",
              "  yield {\n",
              "    response: {\n",
              "      action: 'complete',\n",
              "    }\n",
              "  };\n",
              "}\n",
              "\n",
              "scope.google = scope.google || {};\n",
              "scope.google.colab = scope.google.colab || {};\n",
              "scope.google.colab._files = {\n",
              "  _uploadFiles,\n",
              "  _uploadFilesContinue,\n",
              "};\n",
              "})(self);\n",
              "</script> "
            ]
          },
          "metadata": {}
        },
        {
          "output_type": "stream",
          "name": "stdout",
          "text": [
            "Saving GAZP_220701_221201.csv to GAZP_220701_221201 (1).csv\n"
          ]
        }
      ]
    },
    {
      "cell_type": "code",
      "source": [
        "import pandas as pddf \n",
        "pd.read_csv('https://raw.githubusercontent.com/grigoryevaalice/Exchange-data-warehouse/main/GAZP_220701_221201.csv')"
      ],
      "metadata": {
        "colab": {
          "base_uri": "https://localhost:8080/",
          "height": 424
        },
        "id": "wva7itOg1B1G",
        "outputId": "4f0b1f7a-2673-4e20-f405-b06d69dbe516"
      },
      "execution_count": 3,
      "outputs": [
        {
          "output_type": "execute_result",
          "data": {
            "text/plain": [
              "     <TICKER>  <PER>    <DATE>  <TIME>  <OPEN>  <HIGH>   <LOW>  <CLOSE>  \\\n",
              "0        GAZP     60  20220701  110000  200.84  201.85  186.20   195.87   \n",
              "1        GAZP     60  20220701  120000  195.84  195.92  191.34   194.40   \n",
              "2        GAZP     60  20220701  130000  194.40  196.30  193.20   194.20   \n",
              "3        GAZP     60  20220701  140000  194.20  197.69  193.95   197.50   \n",
              "4        GAZP     60  20220701  150000  197.50  197.50  195.10   195.13   \n",
              "...       ...    ...       ...     ...     ...     ...     ...      ...   \n",
              "1266     GAZP     60  20221201  200000  167.25  167.25  166.31   166.93   \n",
              "1267     GAZP     60  20221201  210000  166.94  167.00  166.81   166.96   \n",
              "1268     GAZP     60  20221201  220000  166.92  167.00  166.83   166.98   \n",
              "1269     GAZP     60  20221201  230000  166.98  167.00  166.89   166.94   \n",
              "1270     GAZP     60  20221202       0  166.91  167.00  166.88   166.98   \n",
              "\n",
              "         <VOL>  \n",
              "0     56774340  \n",
              "1     17570520  \n",
              "2      8538260  \n",
              "3      7412220  \n",
              "4      4870770  \n",
              "...        ...  \n",
              "1266    402270  \n",
              "1267    214030  \n",
              "1268    162350  \n",
              "1269    155010  \n",
              "1270    101400  \n",
              "\n",
              "[1271 rows x 9 columns]"
            ],
            "text/html": [
              "\n",
              "  <div id=\"df-07db7e8f-6765-4c87-b05a-9f2622b67834\">\n",
              "    <div class=\"colab-df-container\">\n",
              "      <div>\n",
              "<style scoped>\n",
              "    .dataframe tbody tr th:only-of-type {\n",
              "        vertical-align: middle;\n",
              "    }\n",
              "\n",
              "    .dataframe tbody tr th {\n",
              "        vertical-align: top;\n",
              "    }\n",
              "\n",
              "    .dataframe thead th {\n",
              "        text-align: right;\n",
              "    }\n",
              "</style>\n",
              "<table border=\"1\" class=\"dataframe\">\n",
              "  <thead>\n",
              "    <tr style=\"text-align: right;\">\n",
              "      <th></th>\n",
              "      <th>&lt;TICKER&gt;</th>\n",
              "      <th>&lt;PER&gt;</th>\n",
              "      <th>&lt;DATE&gt;</th>\n",
              "      <th>&lt;TIME&gt;</th>\n",
              "      <th>&lt;OPEN&gt;</th>\n",
              "      <th>&lt;HIGH&gt;</th>\n",
              "      <th>&lt;LOW&gt;</th>\n",
              "      <th>&lt;CLOSE&gt;</th>\n",
              "      <th>&lt;VOL&gt;</th>\n",
              "    </tr>\n",
              "  </thead>\n",
              "  <tbody>\n",
              "    <tr>\n",
              "      <th>0</th>\n",
              "      <td>GAZP</td>\n",
              "      <td>60</td>\n",
              "      <td>20220701</td>\n",
              "      <td>110000</td>\n",
              "      <td>200.84</td>\n",
              "      <td>201.85</td>\n",
              "      <td>186.20</td>\n",
              "      <td>195.87</td>\n",
              "      <td>56774340</td>\n",
              "    </tr>\n",
              "    <tr>\n",
              "      <th>1</th>\n",
              "      <td>GAZP</td>\n",
              "      <td>60</td>\n",
              "      <td>20220701</td>\n",
              "      <td>120000</td>\n",
              "      <td>195.84</td>\n",
              "      <td>195.92</td>\n",
              "      <td>191.34</td>\n",
              "      <td>194.40</td>\n",
              "      <td>17570520</td>\n",
              "    </tr>\n",
              "    <tr>\n",
              "      <th>2</th>\n",
              "      <td>GAZP</td>\n",
              "      <td>60</td>\n",
              "      <td>20220701</td>\n",
              "      <td>130000</td>\n",
              "      <td>194.40</td>\n",
              "      <td>196.30</td>\n",
              "      <td>193.20</td>\n",
              "      <td>194.20</td>\n",
              "      <td>8538260</td>\n",
              "    </tr>\n",
              "    <tr>\n",
              "      <th>3</th>\n",
              "      <td>GAZP</td>\n",
              "      <td>60</td>\n",
              "      <td>20220701</td>\n",
              "      <td>140000</td>\n",
              "      <td>194.20</td>\n",
              "      <td>197.69</td>\n",
              "      <td>193.95</td>\n",
              "      <td>197.50</td>\n",
              "      <td>7412220</td>\n",
              "    </tr>\n",
              "    <tr>\n",
              "      <th>4</th>\n",
              "      <td>GAZP</td>\n",
              "      <td>60</td>\n",
              "      <td>20220701</td>\n",
              "      <td>150000</td>\n",
              "      <td>197.50</td>\n",
              "      <td>197.50</td>\n",
              "      <td>195.10</td>\n",
              "      <td>195.13</td>\n",
              "      <td>4870770</td>\n",
              "    </tr>\n",
              "    <tr>\n",
              "      <th>...</th>\n",
              "      <td>...</td>\n",
              "      <td>...</td>\n",
              "      <td>...</td>\n",
              "      <td>...</td>\n",
              "      <td>...</td>\n",
              "      <td>...</td>\n",
              "      <td>...</td>\n",
              "      <td>...</td>\n",
              "      <td>...</td>\n",
              "    </tr>\n",
              "    <tr>\n",
              "      <th>1266</th>\n",
              "      <td>GAZP</td>\n",
              "      <td>60</td>\n",
              "      <td>20221201</td>\n",
              "      <td>200000</td>\n",
              "      <td>167.25</td>\n",
              "      <td>167.25</td>\n",
              "      <td>166.31</td>\n",
              "      <td>166.93</td>\n",
              "      <td>402270</td>\n",
              "    </tr>\n",
              "    <tr>\n",
              "      <th>1267</th>\n",
              "      <td>GAZP</td>\n",
              "      <td>60</td>\n",
              "      <td>20221201</td>\n",
              "      <td>210000</td>\n",
              "      <td>166.94</td>\n",
              "      <td>167.00</td>\n",
              "      <td>166.81</td>\n",
              "      <td>166.96</td>\n",
              "      <td>214030</td>\n",
              "    </tr>\n",
              "    <tr>\n",
              "      <th>1268</th>\n",
              "      <td>GAZP</td>\n",
              "      <td>60</td>\n",
              "      <td>20221201</td>\n",
              "      <td>220000</td>\n",
              "      <td>166.92</td>\n",
              "      <td>167.00</td>\n",
              "      <td>166.83</td>\n",
              "      <td>166.98</td>\n",
              "      <td>162350</td>\n",
              "    </tr>\n",
              "    <tr>\n",
              "      <th>1269</th>\n",
              "      <td>GAZP</td>\n",
              "      <td>60</td>\n",
              "      <td>20221201</td>\n",
              "      <td>230000</td>\n",
              "      <td>166.98</td>\n",
              "      <td>167.00</td>\n",
              "      <td>166.89</td>\n",
              "      <td>166.94</td>\n",
              "      <td>155010</td>\n",
              "    </tr>\n",
              "    <tr>\n",
              "      <th>1270</th>\n",
              "      <td>GAZP</td>\n",
              "      <td>60</td>\n",
              "      <td>20221202</td>\n",
              "      <td>0</td>\n",
              "      <td>166.91</td>\n",
              "      <td>167.00</td>\n",
              "      <td>166.88</td>\n",
              "      <td>166.98</td>\n",
              "      <td>101400</td>\n",
              "    </tr>\n",
              "  </tbody>\n",
              "</table>\n",
              "<p>1271 rows × 9 columns</p>\n",
              "</div>\n",
              "      <button class=\"colab-df-convert\" onclick=\"convertToInteractive('df-07db7e8f-6765-4c87-b05a-9f2622b67834')\"\n",
              "              title=\"Convert this dataframe to an interactive table.\"\n",
              "              style=\"display:none;\">\n",
              "        \n",
              "  <svg xmlns=\"http://www.w3.org/2000/svg\" height=\"24px\"viewBox=\"0 0 24 24\"\n",
              "       width=\"24px\">\n",
              "    <path d=\"M0 0h24v24H0V0z\" fill=\"none\"/>\n",
              "    <path d=\"M18.56 5.44l.94 2.06.94-2.06 2.06-.94-2.06-.94-.94-2.06-.94 2.06-2.06.94zm-11 1L8.5 8.5l.94-2.06 2.06-.94-2.06-.94L8.5 2.5l-.94 2.06-2.06.94zm10 10l.94 2.06.94-2.06 2.06-.94-2.06-.94-.94-2.06-.94 2.06-2.06.94z\"/><path d=\"M17.41 7.96l-1.37-1.37c-.4-.4-.92-.59-1.43-.59-.52 0-1.04.2-1.43.59L10.3 9.45l-7.72 7.72c-.78.78-.78 2.05 0 2.83L4 21.41c.39.39.9.59 1.41.59.51 0 1.02-.2 1.41-.59l7.78-7.78 2.81-2.81c.8-.78.8-2.07 0-2.86zM5.41 20L4 18.59l7.72-7.72 1.47 1.35L5.41 20z\"/>\n",
              "  </svg>\n",
              "      </button>\n",
              "      \n",
              "  <style>\n",
              "    .colab-df-container {\n",
              "      display:flex;\n",
              "      flex-wrap:wrap;\n",
              "      gap: 12px;\n",
              "    }\n",
              "\n",
              "    .colab-df-convert {\n",
              "      background-color: #E8F0FE;\n",
              "      border: none;\n",
              "      border-radius: 50%;\n",
              "      cursor: pointer;\n",
              "      display: none;\n",
              "      fill: #1967D2;\n",
              "      height: 32px;\n",
              "      padding: 0 0 0 0;\n",
              "      width: 32px;\n",
              "    }\n",
              "\n",
              "    .colab-df-convert:hover {\n",
              "      background-color: #E2EBFA;\n",
              "      box-shadow: 0px 1px 2px rgba(60, 64, 67, 0.3), 0px 1px 3px 1px rgba(60, 64, 67, 0.15);\n",
              "      fill: #174EA6;\n",
              "    }\n",
              "\n",
              "    [theme=dark] .colab-df-convert {\n",
              "      background-color: #3B4455;\n",
              "      fill: #D2E3FC;\n",
              "    }\n",
              "\n",
              "    [theme=dark] .colab-df-convert:hover {\n",
              "      background-color: #434B5C;\n",
              "      box-shadow: 0px 1px 3px 1px rgba(0, 0, 0, 0.15);\n",
              "      filter: drop-shadow(0px 1px 2px rgba(0, 0, 0, 0.3));\n",
              "      fill: #FFFFFF;\n",
              "    }\n",
              "  </style>\n",
              "\n",
              "      <script>\n",
              "        const buttonEl =\n",
              "          document.querySelector('#df-07db7e8f-6765-4c87-b05a-9f2622b67834 button.colab-df-convert');\n",
              "        buttonEl.style.display =\n",
              "          google.colab.kernel.accessAllowed ? 'block' : 'none';\n",
              "\n",
              "        async function convertToInteractive(key) {\n",
              "          const element = document.querySelector('#df-07db7e8f-6765-4c87-b05a-9f2622b67834');\n",
              "          const dataTable =\n",
              "            await google.colab.kernel.invokeFunction('convertToInteractive',\n",
              "                                                     [key], {});\n",
              "          if (!dataTable) return;\n",
              "\n",
              "          const docLinkHtml = 'Like what you see? Visit the ' +\n",
              "            '<a target=\"_blank\" href=https://colab.research.google.com/notebooks/data_table.ipynb>data table notebook</a>'\n",
              "            + ' to learn more about interactive tables.';\n",
              "          element.innerHTML = '';\n",
              "          dataTable['output_type'] = 'display_data';\n",
              "          await google.colab.output.renderOutput(dataTable, element);\n",
              "          const docLink = document.createElement('div');\n",
              "          docLink.innerHTML = docLinkHtml;\n",
              "          element.appendChild(docLink);\n",
              "        }\n",
              "      </script>\n",
              "    </div>\n",
              "  </div>\n",
              "  "
            ]
          },
          "metadata": {},
          "execution_count": 3
        }
      ]
    },
    {
      "cell_type": "markdown",
      "source": [
        "# **Клонирование репозитория Github**"
      ],
      "metadata": {
        "id": "6XzDUZSk1HtW"
      }
    },
    {
      "cell_type": "markdown",
      "source": [
        "Вы также можете клонировать репозиторий Github в свою среду Colab так же, как и на свой локальный компьютер, используя файлы *git clone.*"
      ],
      "metadata": {
        "id": "-dfVw1Pr1LcG"
      }
    },
    {
      "cell_type": "code",
      "source": [
        "!git clone https://github.com/grigoryevaalice/Exchange-data-warehouse"
      ],
      "metadata": {
        "colab": {
          "base_uri": "https://localhost:8080/"
        },
        "id": "aICmsAGd1V7m",
        "outputId": "2804726c-b57c-46b9-e0b3-617de34c1722"
      },
      "execution_count": 4,
      "outputs": [
        {
          "output_type": "stream",
          "name": "stdout",
          "text": [
            "Cloning into 'Exchange-data-warehouse'...\n",
            "remote: Enumerating objects: 8, done.\u001b[K\n",
            "remote: Counting objects: 100% (8/8), done.\u001b[K\n",
            "remote: Compressing objects: 100% (7/7), done.\u001b[K\n",
            "remote: Total 8 (delta 0), reused 0 (delta 0), pack-reused 0\u001b[K\n",
            "Unpacking objects: 100% (8/8), done.\n"
          ]
        }
      ]
    },
    {
      "cell_type": "markdown",
      "source": [
        "После того, как репозиторий будет клонирован, вы сможете увидеть его содержимое в «Проводнике файлов» и сможете просто прочитать файл, как обычно."
      ],
      "metadata": {
        "id": "GFs1I8z71j72"
      }
    },
    {
      "cell_type": "markdown",
      "source": [
        "# Загрузка файлов из Интернета с помощью *wget* команды Linux\n",
        "Поскольку Google Colab позволяет вам делать все, что вы можете, в локально размещенном блокноте Jupyter, вы также можете использовать команды оболочки Linux, такие как *ls*, *dir*, *pwdи* *cdт*. д., используя !.\n",
        "Среди этих доступных команд Linux wgetпозволяет загружать файлы с использованием протоколов **HTTP , HTTPS и FTP** .\n"
      ],
      "metadata": {
        "id": "gdSY3gtr1mIu"
      }
    },
    {
      "cell_type": "markdown",
      "source": [
        "В простейшей форме, при использовании без каких-либо опций, wgetзагрузит ресурс, указанный в URL-адресе, в текущий каталог, например:"
      ],
      "metadata": {
        "id": "fWXR2PIa1oM_"
      }
    },
    {
      "cell_type": "code",
      "source": [
        "!wget https://example.com/cats_and_dogs_filtered.zip"
      ],
      "metadata": {
        "colab": {
          "base_uri": "https://localhost:8080/"
        },
        "id": "PbA69Tfi1uh4",
        "outputId": "6ca73bdb-dc50-4a5c-b6d2-ca3259e76ed6"
      },
      "execution_count": 5,
      "outputs": [
        {
          "output_type": "stream",
          "name": "stdout",
          "text": [
            "--2022-12-09 07:53:07--  https://example.com/cats_and_dogs_filtered.zip\n",
            "Resolving example.com (example.com)... 93.184.216.34, 2606:2800:220:1:248:1893:25c8:1946\n",
            "Connecting to example.com (example.com)|93.184.216.34|:443... connected.\n",
            "HTTP request sent, awaiting response... 404 Not Found\n",
            "2022-12-09 07:53:07 ERROR 404: Not Found.\n",
            "\n"
          ]
        }
      ]
    },
    {
      "cell_type": "code",
      "source": [
        "!wget https://example.com/cats_and_dogs_filtered.zip\\-O new_cats_and_dogs_filtered.zip"
      ],
      "metadata": {
        "colab": {
          "base_uri": "https://localhost:8080/"
        },
        "id": "S3L74rrz1xgW",
        "outputId": "c98998f7-b071-4f67-b01b-c804820cdb7f"
      },
      "execution_count": 6,
      "outputs": [
        {
          "output_type": "stream",
          "name": "stdout",
          "text": [
            "--2022-12-09 07:53:20--  https://example.com/cats_and_dogs_filtered.zip-O\n",
            "Resolving example.com (example.com)... 93.184.216.34, 2606:2800:220:1:248:1893:25c8:1946\n",
            "Connecting to example.com (example.com)|93.184.216.34|:443... connected.\n",
            "HTTP request sent, awaiting response... 404 Not Found\n",
            "2022-12-09 07:53:20 ERROR 404: Not Found.\n",
            "\n",
            "--2022-12-09 07:53:20--  http://new_cats_and_dogs_filtered.zip/\n",
            "Resolving new_cats_and_dogs_filtered.zip (new_cats_and_dogs_filtered.zip)... failed: Name or service not known.\n",
            "wget: unable to resolve host address ‘new_cats_and_dogs_filtered.zip’\n"
          ]
        }
      ]
    },
    {
      "cell_type": "markdown",
      "source": [
        "# Сохранить файл в определенное место"
      ],
      "metadata": {
        "id": "ELL4bcEr11OW"
      }
    },
    {
      "cell_type": "markdown",
      "source": [
        "По умолчанию wget файлы сохраняются в текущем рабочем каталоге. Чтобы сохранить файл в определенном месте, используйте *–P* опцию:"
      ],
      "metadata": {
        "id": "jZrpAm1Q13Om"
      }
    },
    {
      "cell_type": "code",
      "source": [
        "!wget https://example.com/cats_and_dogs_filtered.zip\\-P/tmp/"
      ],
      "metadata": {
        "colab": {
          "base_uri": "https://localhost:8080/"
        },
        "id": "XVDePkBG15Ge",
        "outputId": "eac9efa3-5446-470a-e5c2-d798ff219139"
      },
      "execution_count": 7,
      "outputs": [
        {
          "output_type": "stream",
          "name": "stdout",
          "text": [
            "--2022-12-09 07:53:49--  https://example.com/cats_and_dogs_filtered.zip-P/tmp/\n",
            "Resolving example.com (example.com)... 93.184.216.34, 2606:2800:220:1:248:1893:25c8:1946\n",
            "Connecting to example.com (example.com)|93.184.216.34|:443... connected.\n",
            "HTTP request sent, awaiting response... 404 Not Found\n",
            "2022-12-09 07:53:49 ERROR 404: Not Found.\n",
            "\n"
          ]
        }
      ]
    },
    {
      "cell_type": "markdown",
      "source": [
        "Недействительный SSL-сертификат HTTPS\n",
        "**Если вы хотите загрузить файл по HTTPS с хоста с недействительным SSL-сертификатом, вы можете передать** --no-check-certificate параметр:"
      ],
      "metadata": {
        "id": "hpQZd5vg17um"
      }
    },
    {
      "cell_type": "code",
      "source": [
        "!wget https://example.com/cats_and_dogs_filtered.zip\\--no-check-certificate"
      ],
      "metadata": {
        "colab": {
          "base_uri": "https://localhost:8080/"
        },
        "id": "ozwlEgCL194e",
        "outputId": "a11cc593-6a76-4f4c-e98f-fdb111e9af61"
      },
      "execution_count": 8,
      "outputs": [
        {
          "output_type": "stream",
          "name": "stdout",
          "text": [
            "--2022-12-09 07:54:10--  https://example.com/cats_and_dogs_filtered.zip--no-check-certificate\n",
            "Resolving example.com (example.com)... 93.184.216.34, 2606:2800:220:1:248:1893:25c8:1946\n",
            "Connecting to example.com (example.com)|93.184.216.34|:443... connected.\n",
            "HTTP request sent, awaiting response... 404 Not Found\n",
            "2022-12-09 07:54:10 ERROR 404: Not Found.\n",
            "\n"
          ]
        }
      ]
    },
    {
      "cell_type": "markdown",
      "source": [
        "# Несколько файлов одновременно\n",
        "Если вы хотите загрузить несколько файлов одновременно, используйте *-i* параметр, за которым следует путь к файлу, содержащему список URL-адресов для загрузки. Каждый URL-адрес должен быть на отдельной строке."
      ],
      "metadata": {
        "id": "dsjlSGUc2BXO"
      }
    },
    {
      "cell_type": "code",
      "source": [
        "!wget -i dataset-urls.txt"
      ],
      "metadata": {
        "colab": {
          "base_uri": "https://localhost:8080/"
        },
        "id": "cRCLNqIg2Ien",
        "outputId": "86c6ddeb-ced7-4f61-c978-b0c37368cfca"
      },
      "execution_count": 9,
      "outputs": [
        {
          "output_type": "stream",
          "name": "stdout",
          "text": [
            "dataset-urls.txt: No such file or directory\n",
            "No URLs found in dataset-urls.txt.\n"
          ]
        }
      ]
    },
    {
      "cell_type": "markdown",
      "source": [
        "# **Доступ к Google Диску путем его локального подключения**"
      ],
      "metadata": {
        "id": "JLv_WPwz2bnu"
      }
    },
    {
      "cell_type": "markdown",
      "source": [
        "Вы можете использовать *drive* модуль *google.colab* для подключения вашего *Google *Диска к *Colab*."
      ],
      "metadata": {
        "id": "wS9dTpjo2dxO"
      }
    },
    {
      "cell_type": "code",
      "source": [
        "from google.colab import drive\n",
        "drive.mount('/content/drive')"
      ],
      "metadata": {
        "colab": {
          "base_uri": "https://localhost:8080/"
        },
        "id": "Ma5rbnHH2hQm",
        "outputId": "088dde7e-4455-463e-8f94-55b0357edf65"
      },
      "execution_count": 10,
      "outputs": [
        {
          "output_type": "stream",
          "name": "stdout",
          "text": [
            "Mounted at /content/drive\n"
          ]
        }
      ]
    },
    {
      "cell_type": "markdown",
      "source": [
        "Чтобы отключить Ваш диск пишем: *drive.flush_and_unmount()*"
      ],
      "metadata": {
        "id": "jBzg-l4K2pBf"
      }
    },
    {
      "cell_type": "code",
      "source": [
        "from google.colab import auth\n",
        "auth.authenticate_user()\n",
        "\n",
        "import gspread\n",
        "from google.auth import default\n",
        "creds, _ = default()\n",
        "\n",
        "gc = gspread.authorize(creds)\n",
        "\n",
        "worksheet = gc.open('12.10 Анализ данных World Bank').sheet1\n",
        "\n",
        "# get_all_values gives a list of rows.\n",
        "rows = worksheet.get_all_values()\n",
        "print(rows)\n",
        "\n",
        "# Convert to a DataFrame and render.\n",
        "import pandas as pd\n",
        "pd.DataFrame.from_records(rows)"
      ],
      "metadata": {
        "colab": {
          "base_uri": "https://localhost:8080/",
          "height": 66
        },
        "id": "dao1Hcz32q9o",
        "outputId": "8ab05e9c-ae37-45fc-8664-cc1bce5d4c54"
      },
      "execution_count": 19,
      "outputs": [
        {
          "output_type": "stream",
          "name": "stdout",
          "text": [
            "[]\n"
          ]
        },
        {
          "output_type": "execute_result",
          "data": {
            "text/plain": [
              "Empty DataFrame\n",
              "Columns: []\n",
              "Index: []"
            ],
            "text/html": [
              "\n",
              "  <div id=\"df-7249600a-6293-4569-b313-181d36a426a5\">\n",
              "    <div class=\"colab-df-container\">\n",
              "      <div>\n",
              "<style scoped>\n",
              "    .dataframe tbody tr th:only-of-type {\n",
              "        vertical-align: middle;\n",
              "    }\n",
              "\n",
              "    .dataframe tbody tr th {\n",
              "        vertical-align: top;\n",
              "    }\n",
              "\n",
              "    .dataframe thead th {\n",
              "        text-align: right;\n",
              "    }\n",
              "</style>\n",
              "<table border=\"1\" class=\"dataframe\">\n",
              "  <thead>\n",
              "    <tr style=\"text-align: right;\">\n",
              "      <th></th>\n",
              "    </tr>\n",
              "  </thead>\n",
              "  <tbody>\n",
              "  </tbody>\n",
              "</table>\n",
              "</div>\n",
              "      <button class=\"colab-df-convert\" onclick=\"convertToInteractive('df-7249600a-6293-4569-b313-181d36a426a5')\"\n",
              "              title=\"Convert this dataframe to an interactive table.\"\n",
              "              style=\"display:none;\">\n",
              "        \n",
              "  <svg xmlns=\"http://www.w3.org/2000/svg\" height=\"24px\"viewBox=\"0 0 24 24\"\n",
              "       width=\"24px\">\n",
              "    <path d=\"M0 0h24v24H0V0z\" fill=\"none\"/>\n",
              "    <path d=\"M18.56 5.44l.94 2.06.94-2.06 2.06-.94-2.06-.94-.94-2.06-.94 2.06-2.06.94zm-11 1L8.5 8.5l.94-2.06 2.06-.94-2.06-.94L8.5 2.5l-.94 2.06-2.06.94zm10 10l.94 2.06.94-2.06 2.06-.94-2.06-.94-.94-2.06-.94 2.06-2.06.94z\"/><path d=\"M17.41 7.96l-1.37-1.37c-.4-.4-.92-.59-1.43-.59-.52 0-1.04.2-1.43.59L10.3 9.45l-7.72 7.72c-.78.78-.78 2.05 0 2.83L4 21.41c.39.39.9.59 1.41.59.51 0 1.02-.2 1.41-.59l7.78-7.78 2.81-2.81c.8-.78.8-2.07 0-2.86zM5.41 20L4 18.59l7.72-7.72 1.47 1.35L5.41 20z\"/>\n",
              "  </svg>\n",
              "      </button>\n",
              "      \n",
              "  <style>\n",
              "    .colab-df-container {\n",
              "      display:flex;\n",
              "      flex-wrap:wrap;\n",
              "      gap: 12px;\n",
              "    }\n",
              "\n",
              "    .colab-df-convert {\n",
              "      background-color: #E8F0FE;\n",
              "      border: none;\n",
              "      border-radius: 50%;\n",
              "      cursor: pointer;\n",
              "      display: none;\n",
              "      fill: #1967D2;\n",
              "      height: 32px;\n",
              "      padding: 0 0 0 0;\n",
              "      width: 32px;\n",
              "    }\n",
              "\n",
              "    .colab-df-convert:hover {\n",
              "      background-color: #E2EBFA;\n",
              "      box-shadow: 0px 1px 2px rgba(60, 64, 67, 0.3), 0px 1px 3px 1px rgba(60, 64, 67, 0.15);\n",
              "      fill: #174EA6;\n",
              "    }\n",
              "\n",
              "    [theme=dark] .colab-df-convert {\n",
              "      background-color: #3B4455;\n",
              "      fill: #D2E3FC;\n",
              "    }\n",
              "\n",
              "    [theme=dark] .colab-df-convert:hover {\n",
              "      background-color: #434B5C;\n",
              "      box-shadow: 0px 1px 3px 1px rgba(0, 0, 0, 0.15);\n",
              "      filter: drop-shadow(0px 1px 2px rgba(0, 0, 0, 0.3));\n",
              "      fill: #FFFFFF;\n",
              "    }\n",
              "  </style>\n",
              "\n",
              "      <script>\n",
              "        const buttonEl =\n",
              "          document.querySelector('#df-7249600a-6293-4569-b313-181d36a426a5 button.colab-df-convert');\n",
              "        buttonEl.style.display =\n",
              "          google.colab.kernel.accessAllowed ? 'block' : 'none';\n",
              "\n",
              "        async function convertToInteractive(key) {\n",
              "          const element = document.querySelector('#df-7249600a-6293-4569-b313-181d36a426a5');\n",
              "          const dataTable =\n",
              "            await google.colab.kernel.invokeFunction('convertToInteractive',\n",
              "                                                     [key], {});\n",
              "          if (!dataTable) return;\n",
              "\n",
              "          const docLinkHtml = 'Like what you see? Visit the ' +\n",
              "            '<a target=\"_blank\" href=https://colab.research.google.com/notebooks/data_table.ipynb>data table notebook</a>'\n",
              "            + ' to learn more about interactive tables.';\n",
              "          element.innerHTML = '';\n",
              "          dataTable['output_type'] = 'display_data';\n",
              "          await google.colab.output.renderOutput(dataTable, element);\n",
              "          const docLink = document.createElement('div');\n",
              "          docLink.innerHTML = docLinkHtml;\n",
              "          element.appendChild(docLink);\n",
              "        }\n",
              "      </script>\n",
              "    </div>\n",
              "  </div>\n",
              "  "
            ]
          },
          "metadata": {},
          "execution_count": 19
        }
      ]
    }
  ]
}